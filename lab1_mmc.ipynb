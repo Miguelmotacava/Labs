{
 "cells": [
  {
   "cell_type": "markdown",
   "id": "29a138b1",
   "metadata": {},
   "source": [
    "**Ejercicios**\n",
    "\n",
    "Imprime en consola Hello World.\n",
    "\n",
    "Crea un directorio nuevo llamado new_dir.\n",
    "\n",
    "Elimina ese directorio.\n",
    "\n",
    "Copia el archivo sed.txt dentro de la carpeta lorem a la carpeta lorem-copy. TIP: Puede ser necesario crear la carpeta lorem-copy primero.\n",
    "\n",
    "Copia los otros dos archivos de la carpeta lorem a la carpeta lorem-copy en una sola línea.\n",
    "\n",
    "Muestra el contenido del archivo sed.txt dentro de la carpeta lorem.\n",
    "\n",
    "Muestra el contenido de los archivos at.txt y lorem.txt dentro de la carpeta lorem.\n",
    "\n",
    "Visualiza las primeras 3 líneas del archivo sed.txt dentro de la carpeta lorem-copy\n",
    "\n",
    "Visualiza las ultimas 3 líneas del archivo sed.txt dentro de la carpeta lorem-copy\n",
    "\n",
    "Añade Homo homini lupus. al final de archivo sed.txt dentro de la carpeta lorem-copy.\n",
    "\n",
    "Visualiza las últimas 3 líneas del archivo sed.txt dentro de la carpeta lorem-copy. Deberías ver ahora Homo homini lupus..\n",
    "\n",
    "Sustituye todas las apariciones de et por ET del archivo at.txt dentro de la carpeta lorem-copy. Deberás usar sed.\n",
    "\n",
    "Encuentra al usuario activo en el sistema.\n",
    "\n",
    "Encuentra dónde estás en tu sistema de ficheros.\n",
    "\n",
    "Lista los archivos que terminan por .txt en la carpeta lorem.\n",
    "\n",
    "Cuenta el número de líneas que tiene el archivo sed.txt dentro de la carpeta lorem.\n",
    "\n",
    "Cuenta el número de archivos que empiezan por lorem que están en este directorio y en directorios internos.\n",
    "\n",
    "Encuentra todas las apariciones de et en at.txt dentro de la carpeta lorem.\n",
    "\n",
    "Cuenta el número de apariciones del string et en at.txt dentro de la carpeta lorem.\n",
    "\n",
    "Cuenta el número de apariciones del string et en todos los archivos del directorio lorem-copy."
   ]
  },
  {
   "cell_type": "markdown",
   "id": "cb1d3ddd",
   "metadata": {},
   "source": [
    "**C:\\User>**"
   ]
  },
  {
   "cell_type": "markdown",
   "id": "1d164a30",
   "metadata": {},
   "source": [
    "Imprime en consola Hello World.\n",
    "\n",
    "    echo \"Hello World\"\n",
    "   "
   ]
  },
  {
   "cell_type": "markdown",
   "id": "3ff1605b",
   "metadata": {},
   "source": [
    "Crea un directorio nuevo llamado new_dir.\n",
    "\n",
    "    mkdir new_dir"
   ]
  },
  {
   "cell_type": "markdown",
   "id": "0828544c",
   "metadata": {},
   "source": [
    "Elimina ese directorio.\n",
    "\n",
    "    rm -r new_dir"
   ]
  },
  {
   "cell_type": "markdown",
   "id": "a74a92c9",
   "metadata": {},
   "source": [
    "Copia el archivo sed.txt dentro de la carpeta lorem a la carpeta lorem-copy. TIP: Puede ser necesario crear la carpeta lorem-copy primero.\n",
    "\n",
    "(suponiendo que lorem y el nuevo directorio que se va a crear estan al mismo nivel)\n",
    "\n",
    "    mkdir lorem-copy\n",
    "    cd lorem\n",
    "    cp sed.txt sed-copy.txt (copia del archivo)\n",
    "    cd..\n",
    "    mv lorem\\sed-copy.txt lorem-copy\\sed.txt\n",
    "    "
   ]
  },
  {
   "cell_type": "markdown",
   "id": "9971ca08",
   "metadata": {},
   "source": [
    "Copia los otros dos archivos de la carpeta lorem a la carpeta lorem-copy en una sola línea.\n",
    "\n",
    "    cd lorem\n",
    "    cp at.txt at-copy.txt\n",
    "    cp lorem.txt lorem-copy.txt\n",
    "    cd ..\n",
    "    mv lorem\\at-copy.txt lorem-copy\\at.txt\n",
    "    mv lorem\\lorem-copy.txt lorem-copy\\lorem.txt\n",
    "   \n",
    "\n"
   ]
  },
  {
   "cell_type": "markdown",
   "id": "40c28974",
   "metadata": {},
   "source": [
    "Muestra el contenido del archivo sed.txt dentro de la carpeta lorem.\n",
    "\n",
    "    cd lorem\n",
    "    cat sed.txt"
   ]
  },
  {
   "cell_type": "markdown",
   "id": "186b6e7a",
   "metadata": {},
   "source": [
    "Muestra el contenido de los archivos at.txt y lorem.txt dentro de la carpeta lorem.\n",
    "\n",
    "    cd lorem\n",
    "    cat at.txt\n",
    "    cat lorem.txt"
   ]
  },
  {
   "cell_type": "markdown",
   "id": "f1e9da02",
   "metadata": {},
   "source": [
    "Visualiza las primeras 3 líneas del archivo sed.txt dentro de la carpeta lorem-copy\n",
    "\n",
    "    cd lorem-copy\n",
    "    head -n3 sed.txt "
   ]
  },
  {
   "cell_type": "markdown",
   "id": "663cecae",
   "metadata": {},
   "source": [
    "Visualiza las ultimas 3 líneas del archivo sed.txt dentro de la carpeta lorem-copy\n",
    "\n",
    "    cd lorem-copy\n",
    "    tail -n3 sed.txt"
   ]
  },
  {
   "cell_type": "markdown",
   "id": "c78f7599",
   "metadata": {},
   "source": [
    "Añade Homo homini lupus. al final de archivo sed.txt dentro de la carpeta lorem-copy.\n",
    "\n",
    "    cd lorem-copy\n",
    "    echo Homo homini lupus.>> sed.txt \n",
    "    "
   ]
  },
  {
   "cell_type": "markdown",
   "id": "cfbcbc1e",
   "metadata": {},
   "source": [
    "Visualiza las últimas 3 líneas del archivo sed.txt dentro de la carpeta lorem-copy. Deberías ver ahora Homo homini lupus..\n",
    "\n",
    "    cd lorem-copy\n",
    "    tail-n3 sed.txt"
   ]
  },
  {
   "cell_type": "markdown",
   "id": "e904807f",
   "metadata": {},
   "source": [
    "Sustituye todas las apariciones de et por ET del archivo at.txt dentro de la carpeta lorem-copy. Deberás usar sed.\n",
    "    \n",
    "    sed -i \"s/et/ET/g\" \"at.txt\""
   ]
  },
  {
   "cell_type": "markdown",
   "id": "6c206c17",
   "metadata": {},
   "source": [
    "Encuentra al usuario activo en el sistema.\n",
    "\n",
    "    net user (para mas info: net user \"<nombre del usuario>\")"
   ]
  },
  {
   "cell_type": "markdown",
   "id": "67590c3b",
   "metadata": {},
   "source": [
    "Encuentra dónde estás en tu sistema de ficheros.\n",
    "\n",
    "    pwd"
   ]
  },
  {
   "cell_type": "markdown",
   "id": "57f030ae",
   "metadata": {},
   "source": [
    "Lista los archivos que terminan por .txt en la carpeta lorem.\n",
    "\n",
    "    cd lorem\n",
    "    ls *.txt"
   ]
  },
  {
   "cell_type": "markdown",
   "id": "0b9cd0b8",
   "metadata": {},
   "source": [
    "Cuenta el número de líneas que tiene el archivo sed.txt dentro de la carpeta lorem.\n",
    "\n",
    "\n",
    "    cd lorem\n",
    "    wc sed.txt  (lineas, palabras, caracteres)"
   ]
  },
  {
   "cell_type": "markdown",
   "id": "981e2f02",
   "metadata": {},
   "source": [
    "Cuenta el número de archivos que empiezan por lorem que están en este directorio y en directorios internos.\n",
    "\n",
    "    find . -name \\*lorem* -type f | wc -w\n",
    "    "
   ]
  },
  {
   "cell_type": "markdown",
   "id": "021e3840",
   "metadata": {},
   "source": [
    "Encuentra todas las apariciones de et en at.txt dentro de la carpeta lorem.\n",
    "\n",
    "    cd lorem\n",
    "    grep --color=always et at.txt"
   ]
  },
  {
   "cell_type": "markdown",
   "id": "af7b7fd9",
   "metadata": {},
   "source": [
    "Cuenta el número de apariciones del string et en at.txt dentro de la carpeta lorem.\n",
    "\n",
    "    cd lorem\n",
    "    grep -o -w et at.txt|wc -w"
   ]
  },
  {
   "cell_type": "markdown",
   "id": "80f4935a",
   "metadata": {},
   "source": [
    "Cuenta el número de apariciones del string et en todos los archivos del directorio lorem-copy.\n",
    "\n",
    "    grep -o -w -r et lorem-copy|wc -w\n"
   ]
  },
  {
   "cell_type": "markdown",
   "id": "245b2d27",
   "metadata": {},
   "source": [
    "**el string et se ha tenido en cuenta que sea tal cual et, es decir, en minusculas**\n"
   ]
  },
  {
   "cell_type": "code",
   "execution_count": null,
   "id": "273b910e",
   "metadata": {},
   "outputs": [],
   "source": []
  },
  {
   "cell_type": "markdown",
   "id": "6d0e53ac",
   "metadata": {},
   "source": [
    "**Bonus** (No esta completo)\n",
    "\n",
    "Almacena en una variable name tu nombre.\n",
    "\n",
    "Imprime esa variable.\n",
    "\n",
    "Crea un directorio nuevo que se llame como el contenido de la variable name.\n",
    "\n",
    "Elimina ese directorio.\n",
    "\n",
    "Muestra los procesos de forma jerárquica que se están ejecutando en tu ordenador:\n",
    "\n",
    "Usando el comando top o htop\n",
    "Usando el comando ps con argumentos\n",
    "Muestra información sobre tu procesador por pantalla\n",
    "\n",
    "Crea 3 alias y haz que estén disponibles cada vez que inicias sesión\n",
    "\n",
    "Comprime las carpetas lorem y lorem-copy en un archivo llamado lorem-compressed.tar.gz\n",
    "\n",
    "Descomprime el archivo lorem-compressed.tar.gz en la carpeta lorem-uncompressed\n",
    "\n",
    "Crea un script bash para imprimir los numeros de 1 a 100."
   ]
  },
  {
   "cell_type": "markdown",
   "id": "ac745cb7",
   "metadata": {},
   "source": [
    "Almacena en una variable name tu nombre.\n",
    "\n",
    "    name=\"Mota\""
   ]
  },
  {
   "cell_type": "markdown",
   "id": "3bfa9530",
   "metadata": {},
   "source": [
    "Imprime esa variable.\n",
    "\n",
    "    echo $name\n",
    "    "
   ]
  },
  {
   "cell_type": "markdown",
   "id": "41501465",
   "metadata": {},
   "source": [
    "Crea un directorio nuevo que se llame como el contenido de la variable name.\n",
    "\n",
    "    mkdir $name"
   ]
  },
  {
   "cell_type": "markdown",
   "id": "1749ba17",
   "metadata": {},
   "source": [
    "Elimina ese directorio.\n",
    "\n",
    "    rm -r $name\n",
    "    "
   ]
  },
  {
   "cell_type": "markdown",
   "id": "30253561",
   "metadata": {},
   "source": [
    "Muestra los procesos de forma jerárquica que se están ejecutando en tu ordenador:\n",
    "\n",
    "Usando el comando top o htop\n",
    "Usando el comando ps con argumentos\n",
    "Muestra información sobre tu procesador por pantalla\n",
    "\n",
    "    #top (me pone no encontrado)\n",
    "\n",
    "    \n",
    "    #ps -e\n",
    "      PID    PPID    PGID     WINPID   TTY         UID    STIME COMMAND\n",
    "     1872    1871    1872      13936  pty0      197609 19:54:45 /usr/bin/bash\n",
    "     1871       1    1871      18916  ?         197609 19:54:45 /usr/bin/mintty\n",
    "     1918    1872    1918       3012  pty0      197609 19:58:01 /usr/bin/ps\n",
    "\n"
   ]
  },
  {
   "cell_type": "markdown",
   "id": "62d2005e",
   "metadata": {},
   "source": [
    "Crea 3 alias y haz que estén disponibles cada vez que inicias sesión\n",
    "\n",
    "        no me deja hacerlo segun los apuntes"
   ]
  },
  {
   "cell_type": "markdown",
   "id": "617fad30",
   "metadata": {},
   "source": [
    "Comprime las carpetas lorem y lorem-copy en un archivo llamado lorem-compressed.tar.gz\n",
    "\n",
    "        tar czvf lorem-compressed.tar.gz /c/users/ux533fd/desktop/bootcamp/1.1-lab-bash/lorem /c/users/ux533fd/desktop/bootcamp/1.1-lab-bash/lorem-copy"
   ]
  },
  {
   "cell_type": "markdown",
   "id": "49decb3a",
   "metadata": {},
   "source": [
    "Descomprime el archivo lorem-compressed.tar.gz en la carpeta lorem-uncompressed\n",
    "\n",
    "    tar xzvf lorem-compressed.tar.gz -C /c/users/ux533fd/desktop/bootcamp/1.1-lab-bash/lorem-uncompressed\n",
    "    "
   ]
  },
  {
   "cell_type": "markdown",
   "id": "627e4877",
   "metadata": {},
   "source": [
    "Crea un script bash para imprimir los numeros de 1 a 100.\n",
    "\n",
    "    for i in {1..100..1}\n",
    "    do\n",
    "    echo $i\n",
    "    done"
   ]
  },
  {
   "cell_type": "code",
   "execution_count": null,
   "id": "83d4a083",
   "metadata": {},
   "outputs": [],
   "source": []
  }
 ],
 "metadata": {
  "kernelspec": {
   "display_name": "lab1",
   "language": "python",
   "name": "lab1"
  },
  "language_info": {
   "codemirror_mode": {
    "name": "ipython",
    "version": 3
   },
   "file_extension": ".py",
   "mimetype": "text/x-python",
   "name": "python",
   "nbconvert_exporter": "python",
   "pygments_lexer": "ipython3",
   "version": "3.9.12"
  }
 },
 "nbformat": 4,
 "nbformat_minor": 5
}
